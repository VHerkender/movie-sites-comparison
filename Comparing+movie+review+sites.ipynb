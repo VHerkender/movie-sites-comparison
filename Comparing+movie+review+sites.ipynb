{
 "cells": [
  {
   "cell_type": "code",
   "execution_count": 2,
   "metadata": {
    "collapsed": false
   },
   "outputs": [
    {
     "data": {
      "image/png": "[encoded data removed]",
      "text/plain": [
       "<matplotlib.figure.Figure at 0x7fa5c4670860>"
      ]
     },
     "metadata": {},
     "output_type": "display_data"
    },
    {
     "data": {
      "image/png": "[encoded data removed]",
      "text/plain": [
       "<matplotlib.figure.Figure at 0x7fa5c45f0f60>"
      ]
     },
     "metadata": {},
     "output_type": "display_data"
    }
   ],
   "source": [
    "import pandas as pd\n",
    "import matplotlib.pyplot as plt\n",
    "%matplotlib inline\n",
    "movies = pd.read_csv('fandango_score_comparison.csv')\n",
    "plt.hist(movies['Metacritic_norm_round'])\n",
    "plt.show()\n",
    "plt.hist(movies['Fandango_Stars'])\n",
    "plt.show()"
   ]
  },
  {
   "cell_type": "code",
   "execution_count": 3,
   "metadata": {
    "collapsed": true
   },
   "outputs": [],
   "source": [
    "# Notably Metacritic's peak is nearly 1:1 between 3 and 4 stars,\n",
    "# whereas Fandango has a 1:4 ratio between 3 and 4 stars.\n",
    "# It would appear there is an obvious upward skew in Fandango ratings. "
   ]
  },
  {
   "cell_type": "code",
   "execution_count": 4,
   "metadata": {
    "collapsed": false
   },
   "outputs": [
    {
     "name": "stdout",
     "output_type": "stream",
     "text": [
      "4.08904109589\n",
      "2.97260273973\n",
      "4.0\n",
      "3.0\n",
      "0.53853216127\n",
      "0.987561029704\n"
     ]
    }
   ],
   "source": [
    "import numpy \n",
    "f_mean = movies['Fandango_Stars'].mean()\n",
    "m_mean = movies['Metacritic_norm_round'].mean()\n",
    "print(f_mean)\n",
    "print (m_mean)\n",
    "f_median = movies['Fandango_Stars'].median()\n",
    "m_median = movies['Metacritic_norm_round'].median()\n",
    "print(f_median)\n",
    "print(m_median)\n",
    "f_std = numpy.std(movies['Fandango_Stars'])\n",
    "m_std = numpy.std(movies['Metacritic_norm_round'])\n",
    "print(f_std)\n",
    "print(m_std)"
   ]
  },
  {
   "cell_type": "code",
   "execution_count": 5,
   "metadata": {
    "collapsed": true
   },
   "outputs": [],
   "source": [
    "# Metacritic mean: 2.9, median: 3 | Fandango mean: 4.1, median 4\n",
    "# This shows numeric proof Fandango is skewed 20% upward in ratings\n",
    "# Metacritic std: 1 / Fandango std: 0.53\n",
    "# This metric shows disproportionate clustering in Fandango ratings\n",
    "# With its mean and median near 4, 68% are 3.5 - 4.5 stars rating\n",
    "# In comparison Metacritic's comparable range is 2-4 stars, proportinate"
   ]
  },
  {
   "cell_type": "code",
   "execution_count": 6,
   "metadata": {
    "collapsed": false
   },
   "outputs": [
    {
     "data": {
      "image/png": "[encoded data removed]",
      "text/plain": [
       "<matplotlib.figure.Figure at 0x7fa553c904a8>"
      ]
     },
     "metadata": {},
     "output_type": "display_data"
    }
   ],
   "source": [
    "plt.scatter(movies['Fandango_Stars'], movies['Metacritic_norm_round'], color=['red', 'blue'])\n",
    "plt.show()"
   ]
  },
  {
   "cell_type": "code",
   "execution_count": 7,
   "metadata": {
    "collapsed": false
   },
   "outputs": [
    {
     "name": "stdout",
     "output_type": "stream",
     "text": [
      "3       Do You Believe? (2015)\n",
      "85           Little Boy (2015)\n",
      "47                Annie (2014)\n",
      "19               Pixels (2015)\n",
      "134    The Longest Ride (2015)\n",
      "Name: FILM, dtype: object\n"
     ]
    },
    {
     "name": "stderr",
     "output_type": "stream",
     "text": [
      "/dataquest/system/env/python3/lib/python3.4/site-packages/ipykernel/__main__.py:3: FutureWarning: sort(columns=....) is deprecated, use sort_values(by=.....)\n",
      "  app.launch_new_instance()\n"
     ]
    }
   ],
   "source": [
    "movies['fm_diff'] = movies['Metacritic_norm_round'] - movies['Fandango_Stars']\n",
    "movies['fm_diff'] = abs(movies['fm_diff'])\n",
    "sort = movies.sort(columns=['fm_diff'], ascending=False)\n",
    "print(sort['FILM'].head())"
   ]
  },
  {
   "cell_type": "code",
   "execution_count": 8,
   "metadata": {
    "collapsed": false
   },
   "outputs": [
    {
     "data": {
      "text/plain": [
       "(0.17844919073895918, 0.031161516228523815)"
      ]
     },
     "execution_count": 8,
     "metadata": {},
     "output_type": "execute_result"
    }
   ],
   "source": [
    "import scipy.stats\n",
    "from scipy.stats.stats import pearsonr\n",
    "scipy.stats.pearsonr(movies['Fandango_Stars'], movies['Metacritic_norm_round'])"
   ]
  },
  {
   "cell_type": "code",
   "execution_count": 9,
   "metadata": {
    "collapsed": true
   },
   "outputs": [],
   "source": [
    "# Respectively, the P values are 18% for Fandango and 3% for Metacritic-\n",
    "# weak correlations for both. Which means there is not\n",
    "# a linear relationship between the two value sets"
   ]
  },
  {
   "cell_type": "code",
   "execution_count": 10,
   "metadata": {
    "collapsed": false
   },
   "outputs": [
    {
     "data": {
      "text/plain": [
       "LinregressResult(slope=0.097311077973928267, intercept=3.7997739188994188, rvalue=0.17844919073895882, pvalue=0.031161516228524384, stderr=0.04471354465679829)"
      ]
     },
     "execution_count": 10,
     "metadata": {},
     "output_type": "execute_result"
    }
   ],
   "source": [
    "from scipy.stats.stats import linregress\n",
    "scipy.stats.linregress(movies['Metacritic_norm_round'], movies['Fandango_Stars'])"
   ]
  },
  {
   "cell_type": "code",
   "execution_count": 11,
   "metadata": {
    "collapsed": false
   },
   "outputs": [
    {
     "data": {
      "text/plain": [
       "4.091707152821204"
      ]
     },
     "execution_count": 11,
     "metadata": {},
     "output_type": "execute_result"
    }
   ],
   "source": [
    "pred_3 = 3 * 0.097311077973928267 + 3.7997739188994188\n",
    "pred_3"
   ]
  },
  {
   "cell_type": "code",
   "execution_count": 12,
   "metadata": {
    "collapsed": false
   },
   "outputs": [
    {
     "name": "stdout",
     "output_type": "stream",
     "text": [
      "3.897084996873347\n",
      "4.28632930876906\n"
     ]
    },
    {
     "data": {
      "image/png": "[encoded data removed]",
      "text/plain": [
       "<matplotlib.figure.Figure at 0x7fa59f57e0b8>"
      ]
     },
     "metadata": {},
     "output_type": "display_data"
    }
   ],
   "source": [
    "slope = 0.097311077973928267\n",
    "intercept = 3.7997739188994188\n",
    "one = 1 * slope + intercept\n",
    "five = 5 * slope + intercept\n",
    "print(one)\n",
    "print(five)\n",
    "plt.scatter([1.0, 5.0], [3.9, 4.2])\n",
    "plt.plot([1.0, 5.0], [3.9, 4.2])\n",
    "plt.xlim(0,6)\n",
    "plt.show()"
   ]
  },
  {
   "cell_type": "code",
   "execution_count": null,
   "metadata": {
    "collapsed": true
   },
   "outputs": [],
   "source": []
  }
 ],
 "metadata": {
  "kernelspec": {
   "display_name": "Python 3",
   "language": "python",
   "name": "python3"
  },
  "language_info": {
   "codemirror_mode": {
    "name": "ipython",
    "version": 3
   },
   "file_extension": ".py",
   "mimetype": "text/x-python",
   "name": "python",
   "nbconvert_exporter": "python",
   "pygments_lexer": "ipython3",
   "version": "3.4.3"
  }
 },
 "nbformat": 4,
 "nbformat_minor": 0
}
